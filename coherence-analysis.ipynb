{
 "cells": [
  {
   "cell_type": "code",
   "execution_count": null,
   "id": "1b41def7",
   "metadata": {
    "collapsed": false
   },
   "outputs": [],
   "source": [
    "# for colab notebook\n",
    "\n",
    "from pathlib import Path  # see https://docs.python.org/3/library/pathlib.html#basic-use\n",
    "\n",
    "# ! git clone --branch develop https://github.com/ThomasWodzinski/coherence-analysis.git\n",
    "! git clone https://github.com/ThomasWodzinski/coherence-analysis.git\n",
    "%cd coherence-analysis/\n",
    "! pip install lmfit\n",
    "\n",
    "## Define paths\n",
    "# use data stored in own google drive location\n",
    "from google.colab import drive\n",
    "\n",
    "drive.mount('/content/gdrive', force_remount=True)\n",
    "data_dir = Path('/content/gdrive/MyDrive/PhD/coherence/data/')\n",
    "useful_dir = Path('/content/gdrive/MyDrive/PhD/coherence/data/useful/')\n",
    "bgsubtracted_dir = Path('/content/gdrive/MyDrive/PhD/coherence/data/bgsubtracted/')\n",
    "print(useful_dir)\n",
    "scratch_dir = Path('/content/gdrive/MyDrive/PhD/coherence/data/scratch_cc/')\n",
    "#prebgsubtracted_dir\n",
    "#bgsubtracted_dir = Path.joinpath('/content/gdrive/MyDrive/PhD/coherence/data/scratch_cc/','bgsubtracted')"
   ]
  },
  {
   "cell_type": "code",
   "execution_count": null,
   "id": "346a1cac",
   "metadata": {
    "collapsed": false
   },
   "outputs": [],
   "source": [
    " %load main.py"
   ]
  }
 ],
 "metadata": {},
 "nbformat": 4,
 "nbformat_minor": 5
}
